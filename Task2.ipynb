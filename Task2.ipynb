{
 "cells": [
  {
   "cell_type": "code",
   "execution_count": 1,
   "id": "a5fe4587",
   "metadata": {},
   "outputs": [],
   "source": [
    "import pandas_datareader.data as pdr\n",
    "import datetime as dt"
   ]
  },
  {
   "cell_type": "code",
   "execution_count": 2,
   "id": "dd68ecdd",
   "metadata": {},
   "outputs": [],
   "source": [
    "start = dt.datetime(2020, 1, 1)\n",
    "end = dt.datetime(2021, 12, 31)\n"
   ]
  },
  {
   "cell_type": "code",
   "execution_count": 3,
   "id": "a957f73b",
   "metadata": {},
   "outputs": [],
   "source": [
    "api_key = '65a541c43231b61795cf530b309641945d95410d'"
   ]
  },
  {
   "cell_type": "code",
   "execution_count": 4,
   "id": "f8136444",
   "metadata": {},
   "outputs": [
    {
     "name": "stderr",
     "output_type": "stream",
     "text": [
      "C:\\Users\\91930\\AppData\\Local\\Temp\\ipykernel_7884\\3317228597.py:1: FutureWarning: In a future version of pandas all arguments of concat except for the argument 'objs' will be keyword-only.\n",
      "  df = pdr.DataReader('AAPL', 'tiingo', start=start, end=end, api_key=api_key)\n"
     ]
    }
   ],
   "source": [
    "df = pdr.DataReader('AAPL', 'tiingo', start=start, end=end, api_key=api_key)"
   ]
  },
  {
   "cell_type": "code",
   "execution_count": 5,
   "id": "c584492b",
   "metadata": {},
   "outputs": [
    {
     "name": "stdout",
     "output_type": "stream",
     "text": [
      "                                   close    high     low    open    volume  \\\n",
      "symbol date                                                                  \n",
      "AAPL   2020-01-02 00:00:00+00:00  300.35  300.60  295.19  296.24  33911864   \n",
      "       2020-01-03 00:00:00+00:00  297.43  300.58  296.50  297.15  36633878   \n",
      "       2020-01-06 00:00:00+00:00  299.80  299.96  292.75  293.79  29644644   \n",
      "       2020-01-07 00:00:00+00:00  298.39  300.90  297.48  299.84  27877655   \n",
      "       2020-01-08 00:00:00+00:00  303.19  304.44  297.16  297.16  33090946   \n",
      "\n",
      "                                   adjClose    adjHigh     adjLow    adjOpen  \\\n",
      "symbol date                                                                    \n",
      "AAPL   2020-01-02 00:00:00+00:00  73.448805  73.509942  72.186958  72.443729   \n",
      "       2020-01-03 00:00:00+00:00  72.734737  73.505051  72.507311  72.666265   \n",
      "       2020-01-06 00:00:00+00:00  73.314306  73.353433  71.590271  71.844597   \n",
      "       2020-01-07 00:00:00+00:00  72.969499  73.583305  72.746964  73.324088   \n",
      "       2020-01-08 00:00:00+00:00  74.143311  74.448991  72.668710  72.668710   \n",
      "\n",
      "                                  adjVolume  divCash  splitFactor  \n",
      "symbol date                                                        \n",
      "AAPL   2020-01-02 00:00:00+00:00  135647456      0.0          1.0  \n",
      "       2020-01-03 00:00:00+00:00  146535512      0.0          1.0  \n",
      "       2020-01-06 00:00:00+00:00  118578576      0.0          1.0  \n",
      "       2020-01-07 00:00:00+00:00  111510620      0.0          1.0  \n",
      "       2020-01-08 00:00:00+00:00  132363784      0.0          1.0  \n"
     ]
    }
   ],
   "source": [
    "print(df.head())"
   ]
  },
  {
   "cell_type": "code",
   "execution_count": 6,
   "id": "a4106515",
   "metadata": {},
   "outputs": [
    {
     "data": {
      "text/html": [
       "<div>\n",
       "<style scoped>\n",
       "    .dataframe tbody tr th:only-of-type {\n",
       "        vertical-align: middle;\n",
       "    }\n",
       "\n",
       "    .dataframe tbody tr th {\n",
       "        vertical-align: top;\n",
       "    }\n",
       "\n",
       "    .dataframe thead th {\n",
       "        text-align: right;\n",
       "    }\n",
       "</style>\n",
       "<table border=\"1\" class=\"dataframe\">\n",
       "  <thead>\n",
       "    <tr style=\"text-align: right;\">\n",
       "      <th></th>\n",
       "      <th></th>\n",
       "      <th>close</th>\n",
       "      <th>high</th>\n",
       "      <th>low</th>\n",
       "      <th>open</th>\n",
       "      <th>volume</th>\n",
       "      <th>adjClose</th>\n",
       "      <th>adjHigh</th>\n",
       "      <th>adjLow</th>\n",
       "      <th>adjOpen</th>\n",
       "      <th>adjVolume</th>\n",
       "      <th>divCash</th>\n",
       "      <th>splitFactor</th>\n",
       "    </tr>\n",
       "    <tr>\n",
       "      <th>symbol</th>\n",
       "      <th>date</th>\n",
       "      <th></th>\n",
       "      <th></th>\n",
       "      <th></th>\n",
       "      <th></th>\n",
       "      <th></th>\n",
       "      <th></th>\n",
       "      <th></th>\n",
       "      <th></th>\n",
       "      <th></th>\n",
       "      <th></th>\n",
       "      <th></th>\n",
       "      <th></th>\n",
       "    </tr>\n",
       "  </thead>\n",
       "  <tbody>\n",
       "    <tr>\n",
       "      <th rowspan=\"5\" valign=\"top\">AAPL</th>\n",
       "      <th>2021-12-27 00:00:00+00:00</th>\n",
       "      <td>180.33</td>\n",
       "      <td>180.42</td>\n",
       "      <td>177.07</td>\n",
       "      <td>177.085</td>\n",
       "      <td>74919582</td>\n",
       "      <td>179.016718</td>\n",
       "      <td>179.106063</td>\n",
       "      <td>175.780460</td>\n",
       "      <td>175.795350</td>\n",
       "      <td>74919582</td>\n",
       "      <td>0.0</td>\n",
       "      <td>1.0</td>\n",
       "    </tr>\n",
       "    <tr>\n",
       "      <th>2021-12-28 00:00:00+00:00</th>\n",
       "      <td>179.29</td>\n",
       "      <td>181.33</td>\n",
       "      <td>178.53</td>\n",
       "      <td>180.160</td>\n",
       "      <td>79144339</td>\n",
       "      <td>177.984292</td>\n",
       "      <td>180.009436</td>\n",
       "      <td>177.229827</td>\n",
       "      <td>178.847956</td>\n",
       "      <td>79144339</td>\n",
       "      <td>0.0</td>\n",
       "      <td>1.0</td>\n",
       "    </tr>\n",
       "    <tr>\n",
       "      <th>2021-12-29 00:00:00+00:00</th>\n",
       "      <td>179.38</td>\n",
       "      <td>180.63</td>\n",
       "      <td>178.14</td>\n",
       "      <td>179.330</td>\n",
       "      <td>62348931</td>\n",
       "      <td>178.073637</td>\n",
       "      <td>179.314533</td>\n",
       "      <td>176.842667</td>\n",
       "      <td>178.024001</td>\n",
       "      <td>62348931</td>\n",
       "      <td>0.0</td>\n",
       "      <td>1.0</td>\n",
       "    </tr>\n",
       "    <tr>\n",
       "      <th>2021-12-30 00:00:00+00:00</th>\n",
       "      <td>178.20</td>\n",
       "      <td>180.57</td>\n",
       "      <td>178.09</td>\n",
       "      <td>179.470</td>\n",
       "      <td>59773014</td>\n",
       "      <td>176.902230</td>\n",
       "      <td>179.254970</td>\n",
       "      <td>176.793031</td>\n",
       "      <td>178.162981</td>\n",
       "      <td>59773014</td>\n",
       "      <td>0.0</td>\n",
       "      <td>1.0</td>\n",
       "    </tr>\n",
       "    <tr>\n",
       "      <th>2021-12-31 00:00:00+00:00</th>\n",
       "      <td>177.57</td>\n",
       "      <td>179.23</td>\n",
       "      <td>177.26</td>\n",
       "      <td>178.085</td>\n",
       "      <td>61661433</td>\n",
       "      <td>176.276818</td>\n",
       "      <td>177.924729</td>\n",
       "      <td>175.969076</td>\n",
       "      <td>176.788068</td>\n",
       "      <td>61661433</td>\n",
       "      <td>0.0</td>\n",
       "      <td>1.0</td>\n",
       "    </tr>\n",
       "  </tbody>\n",
       "</table>\n",
       "</div>"
      ],
      "text/plain": [
       "                                   close    high     low     open    volume  \\\n",
       "symbol date                                                                   \n",
       "AAPL   2021-12-27 00:00:00+00:00  180.33  180.42  177.07  177.085  74919582   \n",
       "       2021-12-28 00:00:00+00:00  179.29  181.33  178.53  180.160  79144339   \n",
       "       2021-12-29 00:00:00+00:00  179.38  180.63  178.14  179.330  62348931   \n",
       "       2021-12-30 00:00:00+00:00  178.20  180.57  178.09  179.470  59773014   \n",
       "       2021-12-31 00:00:00+00:00  177.57  179.23  177.26  178.085  61661433   \n",
       "\n",
       "                                    adjClose     adjHigh      adjLow  \\\n",
       "symbol date                                                            \n",
       "AAPL   2021-12-27 00:00:00+00:00  179.016718  179.106063  175.780460   \n",
       "       2021-12-28 00:00:00+00:00  177.984292  180.009436  177.229827   \n",
       "       2021-12-29 00:00:00+00:00  178.073637  179.314533  176.842667   \n",
       "       2021-12-30 00:00:00+00:00  176.902230  179.254970  176.793031   \n",
       "       2021-12-31 00:00:00+00:00  176.276818  177.924729  175.969076   \n",
       "\n",
       "                                     adjOpen  adjVolume  divCash  splitFactor  \n",
       "symbol date                                                                    \n",
       "AAPL   2021-12-27 00:00:00+00:00  175.795350   74919582      0.0          1.0  \n",
       "       2021-12-28 00:00:00+00:00  178.847956   79144339      0.0          1.0  \n",
       "       2021-12-29 00:00:00+00:00  178.024001   62348931      0.0          1.0  \n",
       "       2021-12-30 00:00:00+00:00  178.162981   59773014      0.0          1.0  \n",
       "       2021-12-31 00:00:00+00:00  176.788068   61661433      0.0          1.0  "
      ]
     },
     "execution_count": 6,
     "metadata": {},
     "output_type": "execute_result"
    }
   ],
   "source": [
    "df.tail()"
   ]
  },
  {
   "cell_type": "code",
   "execution_count": 7,
   "id": "3afe2622",
   "metadata": {},
   "outputs": [],
   "source": [
    "df1=df.reset_index()['high']"
   ]
  },
  {
   "cell_type": "code",
   "execution_count": 8,
   "id": "bdd22459",
   "metadata": {},
   "outputs": [
    {
     "data": {
      "text/plain": [
       "(505,)"
      ]
     },
     "execution_count": 8,
     "metadata": {},
     "output_type": "execute_result"
    }
   ],
   "source": [
    "df1.shape"
   ]
  },
  {
   "cell_type": "code",
   "execution_count": 9,
   "id": "5ad181b3",
   "metadata": {},
   "outputs": [
    {
     "data": {
      "text/plain": [
       "[<matplotlib.lines.Line2D at 0x1d03d446e10>]"
      ]
     },
     "execution_count": 9,
     "metadata": {},
     "output_type": "execute_result"
    },
    {
     "data": {
      "image/png": "[encoded data removed]",
      "text/plain": [
       "<Figure size 640x480 with 1 Axes>"
      ]
     },
     "metadata": {},
     "output_type": "display_data"
    }
   ],
   "source": [
    "import matplotlib.pyplot as plt\n",
    "plt.plot(df1)\n",
    "\n"
   ]
  },
  {
   "cell_type": "code",
   "execution_count": 10,
   "id": "41b52861",
   "metadata": {},
   "outputs": [],
   "source": [
    "import numpy as np"
   ]
  },
  {
   "cell_type": "code",
   "execution_count": 11,
   "id": "75f4a262",
   "metadata": {},
   "outputs": [],
   "source": [
    "\n",
    "from sklearn.preprocessing import MinMaxScaler\n",
    "\n",
    "data = np.array([1, 2, 3, 4, 5], dtype=float) # Replace with your actual data\n",
    "scaler = MinMaxScaler(feature_range=(0, 1))\n",
    "df1 = scaler.fit_transform(data.reshape(-1, 1))\n"
   ]
  },
  {
   "cell_type": "code",
   "execution_count": 12,
   "id": "d3a5ceaa",
   "metadata": {},
   "outputs": [
    {
     "data": {
      "text/plain": [
       "array([[0.  ],\n",
       "       [0.25],\n",
       "       [0.5 ],\n",
       "       [0.75],\n",
       "       [1.  ]])"
      ]
     },
     "execution_count": 12,
     "metadata": {},
     "output_type": "execute_result"
    }
   ],
   "source": [
    "df1"
   ]
  },
  {
   "cell_type": "code",
   "execution_count": 13,
   "id": "27a275b7",
   "metadata": {},
   "outputs": [],
   "source": [
    "from sklearn.model_selection import train_test_split\n",
    "\n",
    "train_data, test_data = train_test_split(df1, test_size=0.65, shuffle=False)\n"
   ]
  },
  {
   "cell_type": "code",
   "execution_count": 14,
   "id": "29e042d6",
   "metadata": {},
   "outputs": [],
   "source": [
    "import numpy"
   ]
  },
  {
   "cell_type": "code",
   "execution_count": 15,
   "id": "56cd522e",
   "metadata": {},
   "outputs": [],
   "source": [
    "def create_dataset(data, time_step=1):\n",
    "    X, Y = [], []\n",
    "    for i in range(len(data)-time_step):\n",
    "        X.append(data[i:i+time_step])\n",
    "        Y.append(data[i+time_step])\n",
    "    return np.array(X), np.array(Y)"
   ]
  },
  {
   "cell_type": "code",
   "execution_count": 16,
   "id": "2266575c",
   "metadata": {},
   "outputs": [],
   "source": [
    "data = np.random.randn(1000)\n",
    "train_data = data[:700]\n",
    "test_data = data[700:]\n",
    "\n",
    "time_step = 100\n",
    "x_train, y_train = create_dataset(train_data, time_step)\n",
    "x_test, y_test = create_dataset(test_data, time_step)"
   ]
  },
  {
   "cell_type": "code",
   "execution_count": 17,
   "id": "603a104b",
   "metadata": {},
   "outputs": [
    {
     "name": "stdout",
     "output_type": "stream",
     "text": [
      "[[ 0.73725995 -0.7052087   0.29802149 ...  0.70440024  0.11835899\n",
      "   0.62464673]\n",
      " [-0.7052087   0.29802149  0.28227343 ...  0.11835899  0.62464673\n",
      "  -0.96234589]\n",
      " [ 0.29802149  0.28227343  1.21424429 ...  0.62464673 -0.96234589\n",
      "  -0.27485453]\n",
      " ...\n",
      " [-0.12444873  0.16356605 -1.19070373 ... -1.0135257   0.12309575\n",
      "   1.45698061]\n",
      " [ 0.16356605 -1.19070373 -0.41538512 ...  0.12309575  1.45698061\n",
      "  -1.49644909]\n",
      " [-1.19070373 -0.41538512  1.03673552 ...  1.45698061 -1.49644909\n",
      "   0.67282777]]\n"
     ]
    }
   ],
   "source": [
    "print(x_train)"
   ]
  },
  {
   "cell_type": "code",
   "execution_count": 18,
   "id": "10bcf6ea",
   "metadata": {},
   "outputs": [
    {
     "name": "stdout",
     "output_type": "stream",
     "text": [
      "(200, 100)\n"
     ]
    }
   ],
   "source": [
    "print(x_test.shape)"
   ]
  },
  {
   "cell_type": "code",
   "execution_count": 19,
   "id": "46ef3023",
   "metadata": {},
   "outputs": [
    {
     "name": "stdout",
     "output_type": "stream",
     "text": [
      "(200,)\n"
     ]
    }
   ],
   "source": [
    "print(y_test.shape)"
   ]
  },
  {
   "cell_type": "code",
   "execution_count": 20,
   "id": "42026a4a",
   "metadata": {},
   "outputs": [
    {
     "name": "stdout",
     "output_type": "stream",
     "text": [
      "(600, 100)\n"
     ]
    }
   ],
   "source": [
    "print(x_train.shape)"
   ]
  },
  {
   "cell_type": "code",
   "execution_count": 21,
   "id": "b6b9f099",
   "metadata": {},
   "outputs": [
    {
     "name": "stdout",
     "output_type": "stream",
     "text": [
      "(600,)\n"
     ]
    }
   ],
   "source": [
    "print(y_train.shape)"
   ]
  },
  {
   "cell_type": "code",
   "execution_count": 22,
   "id": "1c1124e8",
   "metadata": {},
   "outputs": [],
   "source": [
    "x_train = x_train.reshape(x_train.shape[0], x_train.shape[1], 1)\n",
    "x_test = x_test.reshape(x_test.shape[0], x_test.shape[1], 1)\n"
   ]
  },
  {
   "cell_type": "code",
   "execution_count": 23,
   "id": "19322934",
   "metadata": {},
   "outputs": [],
   "source": [
    "from tensorflow.keras.models import Sequential\n",
    "from tensorflow.keras.layers import Dense\n",
    "from tensorflow.keras.layers import LSTM\n"
   ]
  },
  {
   "cell_type": "code",
   "execution_count": 24,
   "id": "19e9ee0c",
   "metadata": {},
   "outputs": [],
   "source": [
    "from tensorflow.keras.models import Sequential\n",
    "from tensorflow.keras.layers import LSTM, Dense\n",
    "\n",
    "model = Sequential()\n",
    "model.add(LSTM(50, return_sequences=True, input_shape=(100,1)))\n",
    "model.add(LSTM(50, return_sequences=True))\n",
    "model.add(LSTM(50))\n",
    "model.add(Dense(1))\n",
    "model.compile(loss='mean_squared_error', optimizer='adam')\n"
   ]
  },
  {
   "cell_type": "code",
   "execution_count": 25,
   "id": "a06719db",
   "metadata": {},
   "outputs": [
    {
     "name": "stdout",
     "output_type": "stream",
     "text": [
      "Model: \"sequential\"\n",
      "_________________________________________________________________\n",
      " Layer (type)                Output Shape              Param #   \n",
      "=================================================================\n",
      " lstm (LSTM)                 (None, 100, 50)           10400     \n",
      "                                                                 \n",
      " lstm_1 (LSTM)               (None, 100, 50)           20200     \n",
      "                                                                 \n",
      " lstm_2 (LSTM)               (None, 50)                20200     \n",
      "                                                                 \n",
      " dense (Dense)               (None, 1)                 51        \n",
      "                                                                 \n",
      "=================================================================\n",
      "Total params: 50,851\n",
      "Trainable params: 50,851\n",
      "Non-trainable params: 0\n",
      "_________________________________________________________________\n"
     ]
    }
   ],
   "source": [
    "model.summary()"
   ]
  },
  {
   "cell_type": "code",
   "execution_count": 26,
   "id": "0d0ac925",
   "metadata": {},
   "outputs": [
    {
     "data": {
      "text/plain": [
       "array([[[ 0.73725995],\n",
       "        [-0.7052087 ],\n",
       "        [ 0.29802149],\n",
       "        ...,\n",
       "        [ 0.70440024],\n",
       "        [ 0.11835899],\n",
       "        [ 0.62464673]],\n",
       "\n",
       "       [[-0.7052087 ],\n",
       "        [ 0.29802149],\n",
       "        [ 0.28227343],\n",
       "        ...,\n",
       "        [ 0.11835899],\n",
       "        [ 0.62464673],\n",
       "        [-0.96234589]],\n",
       "\n",
       "       [[ 0.29802149],\n",
       "        [ 0.28227343],\n",
       "        [ 1.21424429],\n",
       "        ...,\n",
       "        [ 0.62464673],\n",
       "        [-0.96234589],\n",
       "        [-0.27485453]],\n",
       "\n",
       "       ...,\n",
       "\n",
       "       [[ 0.70440024],\n",
       "        [ 0.11835899],\n",
       "        [ 0.62464673],\n",
       "        ...,\n",
       "        [ 0.74231859],\n",
       "        [ 1.61465831],\n",
       "        [ 0.10760164]],\n",
       "\n",
       "       [[ 0.11835899],\n",
       "        [ 0.62464673],\n",
       "        [-0.96234589],\n",
       "        ...,\n",
       "        [ 1.61465831],\n",
       "        [ 0.10760164],\n",
       "        [ 0.01509296]],\n",
       "\n",
       "       [[ 0.62464673],\n",
       "        [-0.96234589],\n",
       "        [-0.27485453],\n",
       "        ...,\n",
       "        [ 0.10760164],\n",
       "        [ 0.01509296],\n",
       "        [-1.55399229]]])"
      ]
     },
     "execution_count": 26,
     "metadata": {},
     "output_type": "execute_result"
    }
   ],
   "source": [
    "x_train[:100]"
   ]
  },
  {
   "cell_type": "code",
   "execution_count": 27,
   "id": "4e96e21e",
   "metadata": {},
   "outputs": [
    {
     "name": "stdout",
     "output_type": "stream",
     "text": [
      "Epoch 1/100\n",
      "10/10 [==============================] - 18s 655ms/step - loss: 0.9676 - val_loss: 0.8721\n",
      "Epoch 2/100\n",
      "10/10 [==============================] - 3s 348ms/step - loss: 0.9629 - val_loss: 0.8708\n",
      "Epoch 3/100\n",
      "10/10 [==============================] - 3s 335ms/step - loss: 0.9624 - val_loss: 0.8706\n",
      "Epoch 4/100\n",
      "10/10 [==============================] - 3s 334ms/step - loss: 0.9619 - val_loss: 0.8680\n",
      "Epoch 5/100\n",
      "10/10 [==============================] - 3s 334ms/step - loss: 0.9620 - val_loss: 0.8673\n",
      "Epoch 6/100\n",
      "10/10 [==============================] - 3s 333ms/step - loss: 0.9619 - val_loss: 0.8671\n",
      "Epoch 7/100\n",
      "10/10 [==============================] - 3s 335ms/step - loss: 0.9618 - val_loss: 0.8687\n",
      "Epoch 8/100\n",
      "10/10 [==============================] - 3s 332ms/step - loss: 0.9621 - val_loss: 0.8703\n",
      "Epoch 9/100\n",
      "10/10 [==============================] - 3s 333ms/step - loss: 0.9607 - val_loss: 0.8700\n",
      "Epoch 10/100\n",
      "10/10 [==============================] - 3s 339ms/step - loss: 0.9625 - val_loss: 0.8698\n",
      "Epoch 11/100\n",
      "10/10 [==============================] - 3s 339ms/step - loss: 0.9620 - val_loss: 0.8684\n",
      "Epoch 12/100\n",
      "10/10 [==============================] - 3s 335ms/step - loss: 0.9623 - val_loss: 0.8710\n",
      "Epoch 13/100\n",
      "10/10 [==============================] - 3s 331ms/step - loss: 0.9615 - val_loss: 0.8713\n",
      "Epoch 14/100\n",
      "10/10 [==============================] - 3s 318ms/step - loss: 0.9599 - val_loss: 0.8728\n",
      "Epoch 15/100\n",
      "10/10 [==============================] - 3s 328ms/step - loss: 0.9575 - val_loss: 0.8847\n",
      "Epoch 16/100\n",
      "10/10 [==============================] - 3s 331ms/step - loss: 0.9621 - val_loss: 0.8774\n",
      "Epoch 17/100\n",
      "10/10 [==============================] - 3s 333ms/step - loss: 0.9557 - val_loss: 0.8706\n",
      "Epoch 18/100\n",
      "10/10 [==============================] - 3s 333ms/step - loss: 0.9483 - val_loss: 0.8746\n",
      "Epoch 19/100\n",
      "10/10 [==============================] - 3s 255ms/step - loss: 0.9491 - val_loss: 0.8654\n",
      "Epoch 20/100\n",
      "10/10 [==============================] - 3s 331ms/step - loss: 0.9658 - val_loss: 0.8640\n",
      "Epoch 21/100\n",
      "10/10 [==============================] - 3s 335ms/step - loss: 0.9612 - val_loss: 0.8664\n",
      "Epoch 22/100\n",
      "10/10 [==============================] - 3s 335ms/step - loss: 0.9599 - val_loss: 0.8687\n",
      "Epoch 23/100\n",
      "10/10 [==============================] - 3s 288ms/step - loss: 0.9624 - val_loss: 0.8722\n",
      "Epoch 24/100\n",
      "10/10 [==============================] - 3s 328ms/step - loss: 0.9606 - val_loss: 0.8721\n",
      "Epoch 25/100\n",
      "10/10 [==============================] - 3s 331ms/step - loss: 0.9584 - val_loss: 0.8694\n",
      "Epoch 26/100\n",
      "10/10 [==============================] - 3s 335ms/step - loss: 0.9578 - val_loss: 0.8696\n",
      "Epoch 27/100\n",
      "10/10 [==============================] - 3s 336ms/step - loss: 0.9566 - val_loss: 0.8735\n",
      "Epoch 28/100\n",
      "10/10 [==============================] - 3s 336ms/step - loss: 0.9540 - val_loss: 0.8742\n",
      "Epoch 29/100\n",
      "10/10 [==============================] - 3s 323ms/step - loss: 0.9512 - val_loss: 0.8803\n",
      "Epoch 30/100\n",
      "10/10 [==============================] - 3s 334ms/step - loss: 0.9471 - val_loss: 0.8812\n",
      "Epoch 31/100\n",
      "10/10 [==============================] - 3s 336ms/step - loss: 0.9497 - val_loss: 0.8785\n",
      "Epoch 32/100\n",
      "10/10 [==============================] - 3s 339ms/step - loss: 0.9434 - val_loss: 0.8992\n",
      "Epoch 33/100\n",
      "10/10 [==============================] - 3s 337ms/step - loss: 0.9385 - val_loss: 0.9107\n",
      "Epoch 34/100\n",
      "10/10 [==============================] - 3s 331ms/step - loss: 0.9361 - val_loss: 0.8837\n",
      "Epoch 35/100\n",
      "10/10 [==============================] - 3s 340ms/step - loss: 0.9318 - val_loss: 0.8910\n",
      "Epoch 36/100\n",
      "10/10 [==============================] - 3s 336ms/step - loss: 0.9355 - val_loss: 0.8772\n",
      "Epoch 37/100\n",
      "10/10 [==============================] - 3s 336ms/step - loss: 0.9484 - val_loss: 0.8908\n",
      "Epoch 38/100\n",
      "10/10 [==============================] - 3s 325ms/step - loss: 0.9510 - val_loss: 0.8711\n",
      "Epoch 39/100\n",
      "10/10 [==============================] - 3s 332ms/step - loss: 0.9368 - val_loss: 0.8766\n",
      "Epoch 40/100\n",
      "10/10 [==============================] - 3s 337ms/step - loss: 0.9328 - val_loss: 0.8997\n",
      "Epoch 41/100\n",
      "10/10 [==============================] - 3s 334ms/step - loss: 0.9516 - val_loss: 0.8975\n",
      "Epoch 42/100\n",
      "10/10 [==============================] - 3s 343ms/step - loss: 0.9359 - val_loss: 0.8990\n",
      "Epoch 43/100\n",
      "10/10 [==============================] - 3s 334ms/step - loss: 0.9248 - val_loss: 0.9128\n",
      "Epoch 44/100\n",
      "10/10 [==============================] - 3s 338ms/step - loss: 0.9251 - val_loss: 0.9236\n",
      "Epoch 45/100\n",
      "10/10 [==============================] - 3s 333ms/step - loss: 0.9069 - val_loss: 0.9218\n",
      "Epoch 46/100\n",
      "10/10 [==============================] - 3s 343ms/step - loss: 0.9173 - val_loss: 0.9322\n",
      "Epoch 47/100\n",
      "10/10 [==============================] - 3s 340ms/step - loss: 0.9090 - val_loss: 0.9032\n",
      "Epoch 48/100\n",
      "10/10 [==============================] - 3s 342ms/step - loss: 0.9132 - val_loss: 0.9003\n",
      "Epoch 49/100\n",
      "10/10 [==============================] - 3s 336ms/step - loss: 0.9256 - val_loss: 0.8942\n",
      "Epoch 50/100\n",
      "10/10 [==============================] - 3s 347ms/step - loss: 0.9270 - val_loss: 0.9097\n",
      "Epoch 51/100\n",
      "10/10 [==============================] - 3s 336ms/step - loss: 0.9162 - val_loss: 0.9175\n",
      "Epoch 52/100\n",
      "10/10 [==============================] - 3s 338ms/step - loss: 0.9103 - val_loss: 0.9451\n",
      "Epoch 53/100\n",
      "10/10 [==============================] - 3s 339ms/step - loss: 0.9105 - val_loss: 0.8827\n",
      "Epoch 54/100\n",
      "10/10 [==============================] - 3s 342ms/step - loss: 0.9013 - val_loss: 0.8797\n",
      "Epoch 55/100\n",
      "10/10 [==============================] - 3s 330ms/step - loss: 0.9094 - val_loss: 0.9180\n",
      "Epoch 56/100\n",
      "10/10 [==============================] - 3s 326ms/step - loss: 0.9042 - val_loss: 0.9164\n",
      "Epoch 57/100\n",
      "10/10 [==============================] - 3s 337ms/step - loss: 0.8922 - val_loss: 0.8933\n",
      "Epoch 58/100\n",
      "10/10 [==============================] - 3s 345ms/step - loss: 0.8983 - val_loss: 0.8704\n",
      "Epoch 59/100\n",
      "10/10 [==============================] - 3s 343ms/step - loss: 0.8796 - val_loss: 0.9137\n",
      "Epoch 60/100\n",
      "10/10 [==============================] - 3s 340ms/step - loss: 0.8962 - val_loss: 0.9037\n",
      "Epoch 61/100\n",
      "10/10 [==============================] - 3s 341ms/step - loss: 0.8848 - val_loss: 0.8727\n",
      "Epoch 62/100\n",
      "10/10 [==============================] - 3s 317ms/step - loss: 0.8833 - val_loss: 0.9557\n",
      "Epoch 63/100\n",
      "10/10 [==============================] - 3s 321ms/step - loss: 0.8759 - val_loss: 0.9109\n",
      "Epoch 64/100\n",
      "10/10 [==============================] - 3s 337ms/step - loss: 0.8709 - val_loss: 0.9013\n",
      "Epoch 65/100\n",
      "10/10 [==============================] - 3s 336ms/step - loss: 0.8643 - val_loss: 0.8917\n",
      "Epoch 66/100\n",
      "10/10 [==============================] - 3s 306ms/step - loss: 0.8717 - val_loss: 0.8776\n",
      "Epoch 67/100\n",
      "10/10 [==============================] - 3s 329ms/step - loss: 0.8706 - val_loss: 0.9944\n",
      "Epoch 68/100\n",
      "10/10 [==============================] - 3s 333ms/step - loss: 0.8973 - val_loss: 0.9362\n",
      "Epoch 69/100\n",
      "10/10 [==============================] - 3s 341ms/step - loss: 0.8705 - val_loss: 0.9054\n",
      "Epoch 70/100\n",
      "10/10 [==============================] - 3s 340ms/step - loss: 0.8645 - val_loss: 0.9624\n",
      "Epoch 71/100\n",
      "10/10 [==============================] - 3s 335ms/step - loss: 0.8719 - val_loss: 0.9668\n",
      "Epoch 72/100\n",
      "10/10 [==============================] - 3s 340ms/step - loss: 0.8598 - val_loss: 0.8935\n",
      "Epoch 73/100\n",
      "10/10 [==============================] - 3s 341ms/step - loss: 0.8816 - val_loss: 0.8608\n",
      "Epoch 74/100\n",
      "10/10 [==============================] - 3s 340ms/step - loss: 0.8625 - val_loss: 0.9223\n",
      "Epoch 75/100\n",
      "10/10 [==============================] - 3s 337ms/step - loss: 0.8487 - val_loss: 0.8882\n",
      "Epoch 76/100\n",
      "10/10 [==============================] - 3s 335ms/step - loss: 0.8453 - val_loss: 0.9022\n",
      "Epoch 77/100\n",
      "10/10 [==============================] - 3s 332ms/step - loss: 0.8451 - val_loss: 0.9045\n",
      "Epoch 78/100\n",
      "10/10 [==============================] - 3s 345ms/step - loss: 0.8517 - val_loss: 0.9328\n",
      "Epoch 79/100\n",
      "10/10 [==============================] - 3s 336ms/step - loss: 0.8652 - val_loss: 0.8732\n",
      "Epoch 80/100\n",
      "10/10 [==============================] - 3s 344ms/step - loss: 0.8465 - val_loss: 0.9082\n",
      "Epoch 81/100\n"
     ]
    },
    {
     "name": "stdout",
     "output_type": "stream",
     "text": [
      "10/10 [==============================] - 3s 336ms/step - loss: 0.8318 - val_loss: 0.9142\n",
      "Epoch 82/100\n",
      "10/10 [==============================] - 3s 326ms/step - loss: 0.8302 - val_loss: 0.9986\n",
      "Epoch 83/100\n",
      "10/10 [==============================] - 3s 336ms/step - loss: 0.9420 - val_loss: 0.9015\n",
      "Epoch 84/100\n",
      "10/10 [==============================] - 3s 340ms/step - loss: 0.8728 - val_loss: 0.9274\n",
      "Epoch 85/100\n",
      "10/10 [==============================] - 3s 338ms/step - loss: 0.8689 - val_loss: 0.9142\n",
      "Epoch 86/100\n",
      "10/10 [==============================] - 3s 327ms/step - loss: 0.8539 - val_loss: 0.9850\n",
      "Epoch 87/100\n",
      "10/10 [==============================] - 3s 333ms/step - loss: 0.8649 - val_loss: 0.9874\n",
      "Epoch 88/100\n",
      "10/10 [==============================] - 3s 300ms/step - loss: 0.8423 - val_loss: 1.0077\n",
      "Epoch 89/100\n",
      "10/10 [==============================] - 3s 339ms/step - loss: 0.8325 - val_loss: 1.0203\n",
      "Epoch 90/100\n",
      "10/10 [==============================] - 3s 330ms/step - loss: 0.8372 - val_loss: 1.0589\n",
      "Epoch 91/100\n",
      "10/10 [==============================] - 3s 332ms/step - loss: 0.8599 - val_loss: 1.0106\n",
      "Epoch 92/100\n",
      "10/10 [==============================] - 3s 333ms/step - loss: 0.8441 - val_loss: 0.9960\n",
      "Epoch 93/100\n",
      "10/10 [==============================] - 3s 328ms/step - loss: 0.8276 - val_loss: 1.0164\n",
      "Epoch 94/100\n",
      "10/10 [==============================] - 3s 316ms/step - loss: 0.8034 - val_loss: 1.0726\n",
      "Epoch 95/100\n",
      "10/10 [==============================] - 3s 333ms/step - loss: 0.8076 - val_loss: 1.0241\n",
      "Epoch 96/100\n",
      "10/10 [==============================] - 3s 334ms/step - loss: 0.7756 - val_loss: 1.0416\n",
      "Epoch 97/100\n",
      "10/10 [==============================] - 3s 334ms/step - loss: 0.7990 - val_loss: 1.0673\n",
      "Epoch 98/100\n",
      "10/10 [==============================] - 3s 336ms/step - loss: 0.7582 - val_loss: 1.1729\n",
      "Epoch 99/100\n",
      "10/10 [==============================] - 3s 330ms/step - loss: 0.7520 - val_loss: 1.0846\n",
      "Epoch 100/100\n",
      "10/10 [==============================] - 3s 339ms/step - loss: 0.7500 - val_loss: 1.1248\n"
     ]
    },
    {
     "data": {
      "text/plain": [
       "<keras.callbacks.History at 0x1d039c60710>"
      ]
     },
     "execution_count": 27,
     "metadata": {},
     "output_type": "execute_result"
    }
   ],
   "source": [
    "model.fit(x_train, y_train, epochs=100, batch_size=64, verbose=1, validation_data=(x_test, y_test))\n"
   ]
  },
  {
   "cell_type": "code",
   "execution_count": 28,
   "id": "00971eae",
   "metadata": {},
   "outputs": [],
   "source": [
    "import tensorflow as tf"
   ]
  },
  {
   "cell_type": "code",
   "execution_count": 29,
   "id": "96afb869",
   "metadata": {},
   "outputs": [
    {
     "name": "stdout",
     "output_type": "stream",
     "text": [
      "19/19 [==============================] - 4s 69ms/step\n",
      "7/7 [==============================] - 0s 63ms/step\n"
     ]
    }
   ],
   "source": [
    "train_predict = model.predict(x_train)\n",
    "test_predict = model.predict(x_test)\n"
   ]
  },
  {
   "cell_type": "code",
   "execution_count": 30,
   "id": "d6f72126",
   "metadata": {},
   "outputs": [],
   "source": [
    "train_predict=scaler.inverse_transform(train_predict)\n",
    "test_predict=scaler.inverse_transform(test_predict)\n"
   ]
  },
  {
   "cell_type": "code",
   "execution_count": 31,
   "id": "8eed05e4",
   "metadata": {},
   "outputs": [
    {
     "data": {
      "text/plain": [
       "1.5736801400738665"
      ]
     },
     "execution_count": 31,
     "metadata": {},
     "output_type": "execute_result"
    }
   ],
   "source": [
    "import math                                        #### calculate the RMSE performence metrics\n",
    "from sklearn.metrics import mean_squared_error\n",
    "math.sqrt(mean_squared_error(y_train,train_predict))"
   ]
  },
  {
   "cell_type": "code",
   "execution_count": 32,
   "id": "1917a872",
   "metadata": {},
   "outputs": [
    {
     "data": {
      "text/plain": [
       "1.9772973518868422"
      ]
     },
     "execution_count": 32,
     "metadata": {},
     "output_type": "execute_result"
    }
   ],
   "source": [
    "math.sqrt(mean_squared_error(y_test,test_predict))"
   ]
  },
  {
   "cell_type": "code",
   "execution_count": 33,
   "id": "d277475b",
   "metadata": {},
   "outputs": [
    {
     "data": {
      "text/plain": [
       "<matplotlib.legend.Legend at 0x1d055c7a310>"
      ]
     },
     "execution_count": 33,
     "metadata": {},
     "output_type": "execute_result"
    },
    {
     "data": {
      "image/png": "[encoded data removed]",
      "text/plain": [
       "<Figure size 640x480 with 1 Axes>"
      ]
     },
     "metadata": {},
     "output_type": "display_data"
    }
   ],
   "source": [
    "\n",
    "import pandas as pd\n",
    "import numpy as np\n",
    "import matplotlib.pyplot as plt\n",
    "\n",
    "# assuming train_data, val_data, and test_data are NumPy arrays\n",
    "train_data = np.array([1, 2, 3, 4, 5])\n",
    "val_data = np.array([6, 7, 8, 9, 10])\n",
    "test_data = np.array([11, 12, 13, 14, 15])\n",
    "\n",
    "# convert test_data to pandas Series\n",
    "test_data = pd.Series(test_data)\n",
    "\n",
    "# plot data splits\n",
    "plt.plot(train_data, label='Train')\n",
    "plt.plot(val_data, label='Validation')\n",
    "plt.plot(test_data, label='Test')\n",
    "plt.legend()\n"
   ]
  },
  {
   "cell_type": "code",
   "execution_count": 34,
   "id": "6a622717",
   "metadata": {},
   "outputs": [],
   "source": [
    "train_predict_reshaped = train_predict.reshape(-1, 1)\n",
    "look_back = 100  # number of time steps to look back\n",
    "\n"
   ]
  },
  {
   "cell_type": "code",
   "execution_count": 36,
   "id": "ddfb74df",
   "metadata": {},
   "outputs": [
    {
     "name": "stdout",
     "output_type": "stream",
     "text": [
      "19/19 [==============================] - 1s 52ms/step\n"
     ]
    },
    {
     "data": {
      "image/png": "[encoded data removed]",
      "text/plain": [
       "<Figure size 640x480 with 1 Axes>"
      ]
     },
     "metadata": {},
     "output_type": "display_data"
    }
   ],
   "source": [
    "train_predictions = model.predict(x_train).flatten()\n",
    "\n",
    "# Plot training data\n",
    "dates_train = range(len(x_train))\n",
    "plt.plot(dates_train, train_predictions, label='Training predictions')\n",
    "plt.plot(dates_train, y_train, label='Training observations')\n",
    "plt.legend()\n",
    "plt.show()\n"
   ]
  }
 ],
 "metadata": {
  "kernelspec": {
   "display_name": "Python 3 (ipykernel)",
   "language": "python",
   "name": "python3"
  },
  "language_info": {
   "codemirror_mode": {
    "name": "ipython",
    "version": 3
   },
   "file_extension": ".py",
   "mimetype": "text/x-python",
   "name": "python",
   "nbconvert_exporter": "python",
   "pygments_lexer": "ipython3",
   "version": "3.11.2"
  }
 },
 "nbformat": 4,
 "nbformat_minor": 5
}
